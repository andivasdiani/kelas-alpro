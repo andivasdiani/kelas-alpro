{
 "cells": [
  {
   "cell_type": "code",
   "execution_count": 1,
   "metadata": {},
   "outputs": [
    {
     "data": {
      "image/png": "[encoded data removed]",
      "text/plain": [
       "<Figure size 432x288 with 1 Axes>"
      ]
     },
     "metadata": {
      "needs_background": "light"
     },
     "output_type": "display_data"
    }
   ],
   "source": [
    "import math\n",
    "import numpy as np\n",
    "import matplotlib.pyplot as plt\n",
    "\n",
    "MAX = 10000\n",
    "\n",
    "def a_drag(v):\n",
    "    val = c_1 + c_2 / (1 + np.exp((v - v_d) / delta))\n",
    "    val *= np.exp(-altitude / y_0)\n",
    "    return val\n",
    "\n",
    "def propagate():\n",
    "    i = 0\n",
    "    while y[i] >= 0.0 and x[i] <= 120.0:\n",
    "        v = np.sqrt((v_x[i] - v_wind) ** 2 + v_y[i] ** 2)\n",
    "        plt.plot(x[i], y[i], 'bo')  # plot the current point\n",
    "        x[i + 1] = x[i] + v_x[i] * dt\n",
    "        y[i + 1] = y[i] + v_y[i] * dt\n",
    "        v_x[i + 1] = v_x[i] - a_drag(v) * v * (v_x[i] - v_wind) * dt\n",
    "        v_y[i + 1] = v_y[i] - a_drag(v) * v * v_y[i] * dt - g * dt\n",
    "        i += 1\n",
    "\n",
    "# Initialize variables\n",
    "x = np.zeros(MAX)\n",
    "y = np.zeros(MAX)\n",
    "t = np.zeros(MAX)\n",
    "v_x = np.zeros(MAX)\n",
    "v_y = np.zeros(MAX)\n",
    "\n",
    "n_points = 0\n",
    "mass = 0.0\n",
    "C_drag = 0.0\n",
    "area = 0.0\n",
    "A_drag = 0.0\n",
    "g = 0.0\n",
    "dt = 0.0\n",
    "\n",
    "c_1, c_2, v_d, delta = 0.0, 0.0, 0.0, 0.0\n",
    "d_1, d_2, v_d_2, delta_2 = 0.0, 0.0, 0.0, 0.0\n",
    "altitude, y_0 = 0.0, 0.0\n",
    "v_wind = 0.0\n",
    "\n",
    "# Adjusted values for parabolic trajectory\n",
    "x[0] = 0.0\n",
    "y[0] = 0.0\n",
    "# Adjusted initial velocity components for a parabolic trajectory with max height 30.0\n",
    "v_x[0] = 40.0  # Adjust as needed\n",
    "v_y[0] = 30.0  # Adjust as needed\n",
    "\n",
    "# Rest of the initialization remains unchanged\n",
    "n_points = 0\n",
    "dt = 0.001\n",
    "t[0] = 0.0\n",
    "v_wind = -10.0 * 0.300\n",
    "\n",
    "c_1 = 0.0039\n",
    "c_2 = 0.0058\n",
    "v_d = 41.0\n",
    "delta = 5.0\n",
    "d_1 = 0.0047\n",
    "d_2 = 0.0041\n",
    "v_d_2 = 38.0\n",
    "delta_2 = 5.0\n",
    "g = 9.8\n",
    "altitude = 0.0\n",
    "y_0 = 30.0  # Changed to 30.0 for parabola shape\n",
    "\n",
    "# Propagate the trajectory\n",
    "propagate()\n",
    "\n",
    "# Plotting\n",
    "plt.title(\"Trajectory of a Batted Base Ball\")\n",
    "plt.xlabel(\"x (m)\")\n",
    "plt.ylabel(\"y (m)\")\n",
    "plt.grid(True)\n",
    "plt.show()"
   ]
  }
 ],
 "metadata": {
  "kernelspec": {
   "display_name": "Python 3",
   "language": "python",
   "name": "python3"
  },
  "language_info": {
   "codemirror_mode": {
    "name": "ipython",
    "version": 3
   },
   "file_extension": ".py",
   "mimetype": "text/x-python",
   "name": "python",
   "nbconvert_exporter": "python",
   "pygments_lexer": "ipython3",
   "version": "3.10.12"
  }
 },
 "nbformat": 4,
 "nbformat_minor": 2
}
